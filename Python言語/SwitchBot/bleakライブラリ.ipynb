{
 "cells": [
  {
   "cell_type": "code",
   "execution_count": 1,
   "metadata": {},
   "outputs": [
    {
     "name": "stdout",
     "output_type": "stream",
     "text": [
      "Requirement already satisfied: bleak in c:\\users\\ginnt\\anaconda3\\lib\\site-packages (0.21.1)\n",
      "Requirement already satisfied: bleak-winrt<2.0.0,>=1.2.0 in c:\\users\\ginnt\\anaconda3\\lib\\site-packages (from bleak) (1.2.0)\n",
      "Requirement already satisfied: typing-extensions>=4.7.0 in c:\\users\\ginnt\\anaconda3\\lib\\site-packages (from bleak) (4.7.1)\n",
      "Note: you may need to restart the kernel to use updated packages.\n"
     ]
    }
   ],
   "source": [
    "pip install bleak"
   ]
  },
  {
   "cell_type": "code",
   "execution_count": 5,
   "metadata": {},
   "outputs": [
    {
     "name": "stderr",
     "output_type": "stream",
     "text": [
      "c:\\Users\\ginnt\\anaconda3\\Lib\\re\\__init__.py:258: RuntimeWarning: coroutine 'run' was never awaited\n",
      "  return pattern.translate(_special_chars_map)\n",
      "RuntimeWarning: Enable tracemalloc to get the object allocation traceback\n"
     ]
    },
    {
     "ename": "RuntimeError",
     "evalue": "This event loop is already running",
     "output_type": "error",
     "traceback": [
      "\u001b[1;31m---------------------------------------------------------------------------\u001b[0m",
      "\u001b[1;31mRuntimeError\u001b[0m                              Traceback (most recent call last)",
      "Cell \u001b[1;32mIn[5], line 12\u001b[0m\n\u001b[0;32m      9\u001b[0m         \u001b[38;5;28mprint\u001b[39m(d)\n\u001b[0;32m     11\u001b[0m loop \u001b[38;5;241m=\u001b[39m asyncio\u001b[38;5;241m.\u001b[39mget_event_loop()\n\u001b[1;32m---> 12\u001b[0m loop\u001b[38;5;241m.\u001b[39mrun_until_complete(run())\n",
      "File \u001b[1;32mc:\\Users\\ginnt\\anaconda3\\Lib\\asyncio\\base_events.py:629\u001b[0m, in \u001b[0;36mBaseEventLoop.run_until_complete\u001b[1;34m(self, future)\u001b[0m\n\u001b[0;32m    618\u001b[0m \u001b[38;5;250m\u001b[39m\u001b[38;5;124;03m\"\"\"Run until the Future is done.\u001b[39;00m\n\u001b[0;32m    619\u001b[0m \n\u001b[0;32m    620\u001b[0m \u001b[38;5;124;03mIf the argument is a coroutine, it is wrapped in a Task.\u001b[39;00m\n\u001b[1;32m   (...)\u001b[0m\n\u001b[0;32m    626\u001b[0m \u001b[38;5;124;03mReturn the Future's result, or raise its exception.\u001b[39;00m\n\u001b[0;32m    627\u001b[0m \u001b[38;5;124;03m\"\"\"\u001b[39;00m\n\u001b[0;32m    628\u001b[0m \u001b[38;5;28mself\u001b[39m\u001b[38;5;241m.\u001b[39m_check_closed()\n\u001b[1;32m--> 629\u001b[0m \u001b[38;5;28mself\u001b[39m\u001b[38;5;241m.\u001b[39m_check_running()\n\u001b[0;32m    631\u001b[0m new_task \u001b[38;5;241m=\u001b[39m \u001b[38;5;129;01mnot\u001b[39;00m futures\u001b[38;5;241m.\u001b[39misfuture(future)\n\u001b[0;32m    632\u001b[0m future \u001b[38;5;241m=\u001b[39m tasks\u001b[38;5;241m.\u001b[39mensure_future(future, loop\u001b[38;5;241m=\u001b[39m\u001b[38;5;28mself\u001b[39m)\n",
      "File \u001b[1;32mc:\\Users\\ginnt\\anaconda3\\Lib\\asyncio\\base_events.py:588\u001b[0m, in \u001b[0;36mBaseEventLoop._check_running\u001b[1;34m(self)\u001b[0m\n\u001b[0;32m    586\u001b[0m \u001b[38;5;28;01mdef\u001b[39;00m \u001b[38;5;21m_check_running\u001b[39m(\u001b[38;5;28mself\u001b[39m):\n\u001b[0;32m    587\u001b[0m     \u001b[38;5;28;01mif\u001b[39;00m \u001b[38;5;28mself\u001b[39m\u001b[38;5;241m.\u001b[39mis_running():\n\u001b[1;32m--> 588\u001b[0m         \u001b[38;5;28;01mraise\u001b[39;00m \u001b[38;5;167;01mRuntimeError\u001b[39;00m(\u001b[38;5;124m'\u001b[39m\u001b[38;5;124mThis event loop is already running\u001b[39m\u001b[38;5;124m'\u001b[39m)\n\u001b[0;32m    589\u001b[0m     \u001b[38;5;28;01mif\u001b[39;00m events\u001b[38;5;241m.\u001b[39m_get_running_loop() \u001b[38;5;129;01mis\u001b[39;00m \u001b[38;5;129;01mnot\u001b[39;00m \u001b[38;5;28;01mNone\u001b[39;00m:\n\u001b[0;32m    590\u001b[0m         \u001b[38;5;28;01mraise\u001b[39;00m \u001b[38;5;167;01mRuntimeError\u001b[39;00m(\n\u001b[0;32m    591\u001b[0m             \u001b[38;5;124m'\u001b[39m\u001b[38;5;124mCannot run the event loop while another loop is running\u001b[39m\u001b[38;5;124m'\u001b[39m)\n",
      "\u001b[1;31mRuntimeError\u001b[0m: This event loop is already running"
     ]
    }
   ],
   "source": [
    "import asyncio\n",
    "from bleak import discover\n",
    "\n",
    "async def run():\n",
    "    devices = await discover()\n",
    "    for d in devices:\n",
    "        #見つかった機器のmacアドレス、名前、距離を表示\n",
    "        print(d.address,d.name,d.rssi)\n",
    "        print(d)\n",
    "\n",
    "loop = asyncio.get_event_loop()\n",
    "loop.run_until_complete(run())\n"
   ]
  },
  {
   "cell_type": "markdown",
   "metadata": {},
   "source": []
  },
  {
   "cell_type": "code",
   "execution_count": null,
   "metadata": {},
   "outputs": [],
   "source": [
    "import asyncio\n",
    "from bleak import discover\n",
    "\n",
    "async def run():\n",
    "import asyncio\n",
    "from bleak import BleakClient\n",
    "import time\n",
    "\n",
    "#switchbotのMacアドレス.[Discover.py]で調べる必要がある\n",
    "address = \" \"\n",
    "#switchbotのUUID.SwitchBotのgithubから発掘した\n",
    "UUID = \"cba20002-224d-11e6-9fb8-0002a5d5c51b\"\n",
    "\n",
    "\n",
    "async def run(address, loop):\n",
    "    async with BleakClient(address, loop=loop) as client:\n",
    "        #同期ミスを防止するため一時停止。\n",
    "        time.sleep(5)\n",
    "\n",
    "        #以下で接続テスト。[Connected: False]と表示されると接続に失敗している\n",
    "        x = await client.is_connected()\n",
    "        print(\"Connected: {0}\".format(x))\n",
    "        #現在のswitchbotの状態を確認\n",
    "        y = await client.read_gatt_char(UUID)\n",
    "        print(y)\n",
    "        print(\"接続に成功しました。コマンドを入力してください。\\nコマンド → press,on,off,exit\")\n",
    "        while True:\n",
    "            #入力受け取り。コマンド毎に送信する命令を変更する。exitなら終了する\n",
    "            command = input()\n",
    "            if command == \"press\":\n",
    "                write_byte = bytearray(b'\\x57\\x01\\x00')\n",
    "            elif command == \"on\":\n",
    "                write_byte = bytearray(b'\\x57\\x01\\x01')\n",
    "            elif command == \"off\":\n",
    "                write_byte = bytearray(b'\\x57\\x01\\x02')\n",
    "            elif command == \"exit\":\n",
    "                #[exit]と入力した場合、1秒後に終了\n",
    "                await asyncio.sleep(1.0, loop=loop)\n",
    "                break\n",
    "            else:\n",
    "                print(\"コマンドを入力してください。\\nコマンド → press,on,off,exit\")\n",
    "                continue\n",
    "\n",
    "            #switchbotに命令を送信\n",
    "            await client.write_gatt_char(UUID, write_byte)\n",
    "            #現在のswitchbotの状態を確認\n",
    "            y = await client.read_gatt_char(UUID)\n",
    "            print(y)\n",
    "            #同期ミスが起こるので一時停止\n",
    "            time.sleep(2)\n",
    "\n",
    "\n",
    "#bleakによるswitchbotとの通信開始\n",
    "loop = asyncio.get_event_loop()\n",
    "loop.run_until_complete(run(address, loop))\n"
   ]
  }
 ],
 "metadata": {
  "kernelspec": {
   "display_name": "base",
   "language": "python",
   "name": "python3"
  },
  "language_info": {
   "codemirror_mode": {
    "name": "ipython",
    "version": 3
   },
   "file_extension": ".py",
   "mimetype": "text/x-python",
   "name": "python",
   "nbconvert_exporter": "python",
   "pygments_lexer": "ipython3",
   "version": "3.11.5"
  }
 },
 "nbformat": 4,
 "nbformat_minor": 2
}
