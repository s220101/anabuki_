{
 "cells": [
  {
   "cell_type": "code",
   "execution_count": 1,
   "metadata": {},
   "outputs": [
    {
     "name": "stdout",
     "output_type": "stream",
     "text": [
      "Collecting gatt\n",
      "  Downloading gatt-0.2.7.tar.gz (7.3 kB)\n",
      "  Preparing metadata (setup.py): started\n",
      "  Preparing metadata (setup.py): finished with status 'done'\n",
      "Building wheels for collected packages: gatt\n",
      "  Building wheel for gatt (setup.py): started\n",
      "  Building wheel for gatt (setup.py): finished with status 'done'\n",
      "  Created wheel for gatt: filename=gatt-0.2.7-py3-none-any.whl size=8898 sha256=5fe84f34b476f49fcf6d9129bd4d13183aff3edb44dd5c1336fc44c5596fc201\n",
      "  Stored in directory: c:\\users\\ginnt\\appdata\\local\\pip\\cache\\wheels\\33\\85\\9d\\d48badc47627a9ed8625bb3be472044fc22b33e104d699e72f\n",
      "Successfully built gatt\n",
      "Installing collected packages: gatt\n",
      "Successfully installed gatt-0.2.7\n",
      "Note: you may need to restart the kernel to use updated packages.\n"
     ]
    }
   ],
   "source": [
    "pip install gatt"
   ]
  },
  {
   "cell_type": "code",
   "execution_count": 3,
   "metadata": {},
   "outputs": [],
   "source": [
    "import gatt"
   ]
  },
  {
   "cell_type": "code",
   "execution_count": 7,
   "metadata": {},
   "outputs": [
    {
     "ename": "ModuleNotFoundError",
     "evalue": "No module named 'bluetooth'",
     "output_type": "error",
     "traceback": [
      "\u001b[1;31m---------------------------------------------------------------------------\u001b[0m",
      "\u001b[1;31mModuleNotFoundError\u001b[0m                       Traceback (most recent call last)",
      "Cell \u001b[1;32mIn[7], line 3\u001b[0m\n\u001b[0;32m      1\u001b[0m \u001b[38;5;28;01mfrom\u001b[39;00m \u001b[38;5;21;01mgatt\u001b[39;00m \u001b[38;5;28;01mimport\u001b[39;00m Device\n\u001b[1;32m----> 3\u001b[0m \u001b[38;5;28;01mimport\u001b[39;00m \u001b[38;5;21;01mbluetooth\u001b[39;00m\n\u001b[0;32m      4\u001b[0m \u001b[38;5;28;01mfrom\u001b[39;00m \u001b[38;5;21;01mbluetooth\u001b[39;00m\u001b[38;5;21;01m.\u001b[39;00m\u001b[38;5;21;01mble\u001b[39;00m \u001b[38;5;28;01mimport\u001b[39;00m GATTRequester\n\u001b[0;32m      6\u001b[0m \u001b[38;5;28;01mclass\u001b[39;00m \u001b[38;5;21;01mMyRequester\u001b[39;00m(GATTRequester):\n",
      "\u001b[1;31mModuleNotFoundError\u001b[0m: No module named 'bluetooth'"
     ]
    }
   ],
   "source": [
    "from gatt import Device\n",
    "\n",
    "import bluetooth\n",
    "from bluetooth.ble import GATTRequester\n",
    "\n",
    "class MyRequester(GATTRequester):\n",
    "    def on_notification(self, handle, data):\n",
    "        # 通知を受信したときの処理をここに記述\n",
    "        print(f\"Notification received on handle {handle}: {data}\")\n",
    "\n",
    "def discover_devices():\n",
    "    nearby_devices = bluetooth.discover_devices(lookup_names=True, device_id=-1, duration=8, lookup_class=True, device_name=False, device_class=False, device_id_type=bluetooth.LE_PUBLIC_ADDRESS, device_oui=0, inquiry_filter=None, lookup_oui=True, device_info=False, device_info_extended=False)\n",
    "    return nearby_devices\n",
    "\n",
    "def connect_to_device(device_address):\n",
    "    requester = MyRequester(device_address, False)\n",
    "    requester.connect(True, channel_type=\"public\")\n",
    "    return requester\n",
    "\n",
    "def main():\n",
    "    # Bluetoothデバイスを検索\n",
    "    devices = discover_devices()\n",
    "\n",
    "    if not devices:\n",
    "        print(\"No Bluetooth devices found.\")\n",
    "        return\n",
    "\n",
    "    # 一番最初に見つかったデバイスに接続\n",
    "    target_device_address, target_device_name, _ = devices[0]\n",
    "    print(f\"Connecting to {target_device_name} ({target_device_address})\")\n",
    "\n",
    "    # デバイスに接続\n",
    "    requester = connect_to_device(target_device_address)\n",
    "\n",
    "    # GATT操作などの処理をここに追加\n",
    "\n",
    "    # 通知の待機などの処理を続ける\n",
    "    while True:\n",
    "        pass\n",
    "\n",
    "if __name__ == \"__main__\":\n",
    "    main()\n",
    "\n"
   ]
  },
  {
   "cell_type": "code",
   "execution_count": 8,
   "metadata": {},
   "outputs": [
    {
     "ename": "TypeError",
     "evalue": "Device() takes no arguments",
     "output_type": "error",
     "traceback": [
      "\u001b[1;31m---------------------------------------------------------------------------\u001b[0m",
      "\u001b[1;31mTypeError\u001b[0m                                 Traceback (most recent call last)",
      "Cell \u001b[1;32mIn[8], line 13\u001b[0m\n\u001b[0;32m     10\u001b[0m     \u001b[38;5;28mprint\u001b[39m(\u001b[38;5;124mf\u001b[39m\u001b[38;5;124m\"\u001b[39m\u001b[38;5;124mReceived data on handle \u001b[39m\u001b[38;5;132;01m{\u001b[39;00mhandle\u001b[38;5;132;01m}\u001b[39;00m\u001b[38;5;124m: \u001b[39m\u001b[38;5;132;01m{\u001b[39;00mvalue\u001b[38;5;132;01m}\u001b[39;00m\u001b[38;5;124m\"\u001b[39m)\n\u001b[0;32m     12\u001b[0m device_address \u001b[38;5;241m=\u001b[39m \u001b[38;5;124m'\u001b[39m\u001b[38;5;124m2AKXB-METERTH1\u001b[39m\u001b[38;5;124m'\u001b[39m  \u001b[38;5;66;03m# Replace with your device's Bluetooth address\u001b[39;00m\n\u001b[1;32m---> 13\u001b[0m device \u001b[38;5;241m=\u001b[39m Device(device_address)\n\u001b[0;32m     14\u001b[0m device\u001b[38;5;241m.\u001b[39mconnect()\n\u001b[0;32m     15\u001b[0m device\u001b[38;5;241m.\u001b[39mregister_on_connect(on_connect)\n",
      "\u001b[1;31mTypeError\u001b[0m: Device() takes no arguments"
     ]
    }
   ],
   "source": [
    "from gatt import Device\n",
    "\n",
    "def on_connect(device):\n",
    "    print(f\"Connected to {device.alias}\")\n",
    "\n",
    "def on_disconnect(device):\n",
    "    print(f\"Disconnected from {device.alias}\")\n",
    "\n",
    "def on_data(handle, value):\n",
    "    print(f\"Received data on handle {handle}: {value}\")\n",
    "\n",
    "device_address = '2AKXB-METERTH1'  # Replace with your device's Bluetooth address\n",
    "device = Device(device_address)\n",
    "device.connect()\n",
    "device.register_on_connect(on_connect)\n",
    "device.register_on_disconnect(on_disconnect)\n",
    "device.register_on_data(on_data)\n",
    "\n",
    "input(\"Press Enter to exit...\")\n",
    "\n"
   ]
  },
  {
   "cell_type": "code",
   "execution_count": null,
   "metadata": {},
   "outputs": [],
   "source": []
  }
 ],
 "metadata": {
  "kernelspec": {
   "display_name": "base",
   "language": "python",
   "name": "python3"
  },
  "language_info": {
   "codemirror_mode": {
    "name": "ipython",
    "version": 3
   },
   "file_extension": ".py",
   "mimetype": "text/x-python",
   "name": "python",
   "nbconvert_exporter": "python",
   "pygments_lexer": "ipython3",
   "version": "3.11.5"
  }
 },
 "nbformat": 4,
 "nbformat_minor": 2
}
