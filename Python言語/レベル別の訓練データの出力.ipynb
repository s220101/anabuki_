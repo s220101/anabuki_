{
 "cells": [
  {
   "cell_type": "code",
   "execution_count": 1,
   "metadata": {},
   "outputs": [],
   "source": [
    "import pandas as pd\n",
    "import matplotlib.pyplot as plt\n",
    "import matplotlib.dates as mdates\n",
    "import japanize_matplotlib"
   ]
  },
  {
   "cell_type": "code",
   "execution_count": 2,
   "metadata": {},
   "outputs": [
    {
     "data": {
      "text/html": [
       "<div>\n",
       "<style scoped>\n",
       "    .dataframe tbody tr th:only-of-type {\n",
       "        vertical-align: middle;\n",
       "    }\n",
       "\n",
       "    .dataframe tbody tr th {\n",
       "        vertical-align: top;\n",
       "    }\n",
       "\n",
       "    .dataframe thead th {\n",
       "        text-align: right;\n",
       "    }\n",
       "</style>\n",
       "<table border=\"1\" class=\"dataframe\">\n",
       "  <thead>\n",
       "    <tr style=\"text-align: right;\">\n",
       "      <th></th>\n",
       "      <th>レベル</th>\n",
       "      <th>基準角度[deg]</th>\n",
       "      <th>割合[%]</th>\n",
       "    </tr>\n",
       "  </thead>\n",
       "  <tbody>\n",
       "    <tr>\n",
       "      <th>0</th>\n",
       "      <td>1</td>\n",
       "      <td>0~10</td>\n",
       "      <td>0.0</td>\n",
       "    </tr>\n",
       "    <tr>\n",
       "      <th>1</th>\n",
       "      <td>2</td>\n",
       "      <td>10~30</td>\n",
       "      <td>0.0</td>\n",
       "    </tr>\n",
       "    <tr>\n",
       "      <th>2</th>\n",
       "      <td>3</td>\n",
       "      <td>30~60</td>\n",
       "      <td>63.0</td>\n",
       "    </tr>\n",
       "    <tr>\n",
       "      <th>3</th>\n",
       "      <td>4</td>\n",
       "      <td>60~90</td>\n",
       "      <td>30.6</td>\n",
       "    </tr>\n",
       "    <tr>\n",
       "      <th>4</th>\n",
       "      <td>5</td>\n",
       "      <td>90~360</td>\n",
       "      <td>6.4</td>\n",
       "    </tr>\n",
       "  </tbody>\n",
       "</table>\n",
       "</div>"
      ],
      "text/plain": [
       "  レベル 基準角度[deg] 割合[%]\n",
       "0   1      0~10   0.0\n",
       "1   2     10~30   0.0\n",
       "2   3     30~60  63.0\n",
       "3   4     60~90  30.6\n",
       "4   5    90~360   6.4"
      ]
     },
     "metadata": {},
     "output_type": "display_data"
    },
    {
     "name": "stderr",
     "output_type": "stream",
     "text": [
      "No handles with labels found to put in legend.\n",
      "<ipython-input-2-c11ffb2b0d68>:89: MatplotlibDeprecationWarning: Adding an axes using the same arguments as a previous axes currently reuses the earlier instance.  In a future version, a new instance will always be created and returned.  Meanwhile, this warning can be suppressed, and the future behavior ensured, by passing a unique label to each axes instance.\n",
      "  ax = plt.subplot()\n"
     ]
    },
    {
     "data": {
      "image/png": "[encoded data removed]",
      "text/plain": [
       "<Figure size 720x432 with 1 Axes>"
      ]
     },
     "metadata": {
      "needs_background": "light"
     },
     "output_type": "display_data"
    }
   ],
   "source": [
    "\n",
    "#カラムを用意 #データベース\n",
    "col_name = [0]\n",
    "#部位の判断\n",
    "col_rename= {'task time(ms)':'作業時間(ms)','waist angle':'腰の角度','side angle':'脇の角度','elbow angle':'肘の角度','wrist angle':'手首の角度'}\n",
    "flame_col=['レベル','基準角度[deg]','割合[%]']\n",
    "col_nam = 0\n",
    "data_frame = [0]*5\n",
    "#格納場所の定義\n",
    "ratio = [0]*5\n",
    "standerd = [0]*5\n",
    "level = [1,2,3,4,5]\n",
    "#基準値の閾値\n",
    "low_var = [[0,10,30,60,90],[0,10,30,60,90],[0,10,30,60,90],[90,120,140,160,180],[90,120,140,160,180]]\n",
    "high_var = [[10,30,60,90,360],[10,30,60,90,360],[10,30,60,90,360],[120,140,160,180,360],[120,140,160,180,360]]\n",
    "\n",
    "def Preprocessing(set_csv_data):\n",
    "    #csvデータを読み込む\n",
    "    df = pd.read_csv(set_csv_data,encoding=\"shift-jis\")\n",
    "    #カラムの名前を変更\n",
    "    df = df.rename(columns = col_rename)\n",
    "    #NaN(欠損値)の削除\n",
    "    df = df.dropna()\n",
    "    #小数点第2位まで表示\n",
    "    df = round(df,3)\n",
    "    return df\n",
    "\n",
    "def Ratio(set_data):\n",
    "    global col_name\n",
    "    #データの格納\n",
    "    df = set_data\n",
    "    #割合を出すために全体のデータ個数を格納\n",
    "    sum_df = len(df)\n",
    "    #特定のカラムデータを格納 #['腰の角度','脇の角度','肘の角度','手首の角度']\n",
    "    i = 0\n",
    "    #カラムの個数を取得\n",
    "    col_nam = len(set_data.columns)\n",
    "    col_name = [0]*col_nam\n",
    "    while i < col_nam:\n",
    "        #時間のカラムを除く\n",
    "        col_name[i] = df.columns[i]\n",
    "        i += 1\n",
    "    df = df[col_name]\n",
    "    \n",
    "    #基準角度範囲,ループ\n",
    "    j = 0\n",
    "    #任意の角度番号\n",
    "    i = 0\n",
    "    #データの格納\n",
    "    while i < col_nam:\n",
    "        while j < len(level):\n",
    "            #基準角度の決定\n",
    "            standerd[j] = str(low_var[i][j]) + \"~\" + str(high_var[i][j])\n",
    "            \n",
    "            #レベルごとの角度を仕分け #エラー箇所\n",
    "            df_ = (df[(low_var[i][j] < df[col_name[i]]) & (df[col_name[i]] <= high_var[i][j])]).dropna()\n",
    "            \n",
    "            ratio[j] = round(len(df_)/sum_df,3)*100\n",
    "            j += 1\n",
    "        data_frame[i] = pd.DataFrame([level,standerd,ratio],index=flame_col).T\n",
    "        i += 1\n",
    "        j = 0\n",
    "    drop_frame = dict(zip(col_name,data_frame))\n",
    "    return drop_frame\n",
    "\n",
    "def data_plot(plot_data):\n",
    "\n",
    "    #X,Y軸のデータを格納\n",
    "    plt.rcParams[\"font.size\"] = 14\n",
    "    plt.rcParams['font.family'] = 'MS Gothic'\n",
    "    plt.rcParams[\"figure.figsize\"] = (10, 6)\n",
    "    plt.rcParams['figure.subplot.bottom'] = 0.15\n",
    "    \n",
    "    \n",
    "    plt.xticks(rotation=0)\n",
    "    i = 1\n",
    "    #各角度の棒グラフを出力\n",
    "    while i < len(col_name):\n",
    "        x_label = plot_data[col_name[i]][flame_col[2]]\n",
    "        y_label = plot_data[col_name[i]][flame_col[0]]\n",
    "        #タイトル：割合[%]\n",
    "        plt.title(col_name[i])\n",
    "        plt.ylim(0,100)\n",
    "\n",
    "        plt.xlabel(plot_data[col_name[i]].columns[0])\n",
    "        plt.ylabel(plot_data[col_name[i]].columns[2])\n",
    "        plt.grid()\n",
    "        plt.bar(y_label,x_label,lw = 6,color='#00ffff')##00ffff\n",
    "        plt.legend(ncol=1)\n",
    "        ax = plt.subplot()\n",
    "        i += 1\n",
    "        for rect in ax.patches:\n",
    "            if rect.get_height() > 0:\n",
    "                cx = rect.get_x() + rect.get_width() / 2\n",
    "                cy = rect.get_y() + rect.get_height() / 1\n",
    "                value = f\"{rect.get_height():.0f}\"\n",
    "                ax.text(cx, cy, value, color='#000000',ha=\"center\",va=\"center\",size=32,weight='bold',fontfamily='Times New Roman')\n",
    "        plt.show()\n",
    "df = Preprocessing('実験２　前傾姿勢作業の腰の角度データ.csv')\n",
    "df = Ratio(df)\n",
    "display(df['作業中の腰の角度'])\n",
    "data_plot(df)"
   ]
  },
  {
   "cell_type": "code",
   "execution_count": 3,
   "metadata": {},
   "outputs": [
    {
     "data": {
      "text/plain": [
       "'腰の角度'"
      ]
     },
     "metadata": {},
     "output_type": "display_data"
    },
    {
     "data": {
      "text/html": [
       "<div>\n",
       "<style scoped>\n",
       "    .dataframe tbody tr th:only-of-type {\n",
       "        vertical-align: middle;\n",
       "    }\n",
       "\n",
       "    .dataframe tbody tr th {\n",
       "        vertical-align: top;\n",
       "    }\n",
       "\n",
       "    .dataframe thead th {\n",
       "        text-align: right;\n",
       "    }\n",
       "</style>\n",
       "<table border=\"1\" class=\"dataframe\">\n",
       "  <thead>\n",
       "    <tr style=\"text-align: right;\">\n",
       "      <th></th>\n",
       "      <th>レベル</th>\n",
       "      <th>基準角度[deg]</th>\n",
       "      <th>割合[%]</th>\n",
       "    </tr>\n",
       "  </thead>\n",
       "  <tbody>\n",
       "    <tr>\n",
       "      <th>0</th>\n",
       "      <td>1</td>\n",
       "      <td>0~10</td>\n",
       "      <td>0.0</td>\n",
       "    </tr>\n",
       "    <tr>\n",
       "      <th>1</th>\n",
       "      <td>2</td>\n",
       "      <td>10~30</td>\n",
       "      <td>0.0</td>\n",
       "    </tr>\n",
       "    <tr>\n",
       "      <th>2</th>\n",
       "      <td>3</td>\n",
       "      <td>30~60</td>\n",
       "      <td>70.0</td>\n",
       "    </tr>\n",
       "    <tr>\n",
       "      <th>3</th>\n",
       "      <td>4</td>\n",
       "      <td>60~90</td>\n",
       "      <td>28.5</td>\n",
       "    </tr>\n",
       "    <tr>\n",
       "      <th>4</th>\n",
       "      <td>5</td>\n",
       "      <td>90~360</td>\n",
       "      <td>1.4</td>\n",
       "    </tr>\n",
       "  </tbody>\n",
       "</table>\n",
       "</div>"
      ],
      "text/plain": [
       "  レベル 基準角度[deg] 割合[%]\n",
       "0   1      0~10   0.0\n",
       "1   2     10~30   0.0\n",
       "2   3     30~60  70.0\n",
       "3   4     60~90  28.5\n",
       "4   5    90~360   1.4"
      ]
     },
     "metadata": {},
     "output_type": "display_data"
    },
    {
     "data": {
      "text/plain": [
       "'脇の角度'"
      ]
     },
     "metadata": {},
     "output_type": "display_data"
    },
    {
     "data": {
      "text/html": [
       "<div>\n",
       "<style scoped>\n",
       "    .dataframe tbody tr th:only-of-type {\n",
       "        vertical-align: middle;\n",
       "    }\n",
       "\n",
       "    .dataframe tbody tr th {\n",
       "        vertical-align: top;\n",
       "    }\n",
       "\n",
       "    .dataframe thead th {\n",
       "        text-align: right;\n",
       "    }\n",
       "</style>\n",
       "<table border=\"1\" class=\"dataframe\">\n",
       "  <thead>\n",
       "    <tr style=\"text-align: right;\">\n",
       "      <th></th>\n",
       "      <th>レベル</th>\n",
       "      <th>基準角度[deg]</th>\n",
       "      <th>割合[%]</th>\n",
       "    </tr>\n",
       "  </thead>\n",
       "  <tbody>\n",
       "    <tr>\n",
       "      <th>0</th>\n",
       "      <td>1</td>\n",
       "      <td>0~10</td>\n",
       "      <td>0.0</td>\n",
       "    </tr>\n",
       "    <tr>\n",
       "      <th>1</th>\n",
       "      <td>2</td>\n",
       "      <td>10~30</td>\n",
       "      <td>11.6</td>\n",
       "    </tr>\n",
       "    <tr>\n",
       "      <th>2</th>\n",
       "      <td>3</td>\n",
       "      <td>30~60</td>\n",
       "      <td>22.2</td>\n",
       "    </tr>\n",
       "    <tr>\n",
       "      <th>3</th>\n",
       "      <td>4</td>\n",
       "      <td>60~90</td>\n",
       "      <td>66.2</td>\n",
       "    </tr>\n",
       "    <tr>\n",
       "      <th>4</th>\n",
       "      <td>5</td>\n",
       "      <td>90~360</td>\n",
       "      <td>0.0</td>\n",
       "    </tr>\n",
       "  </tbody>\n",
       "</table>\n",
       "</div>"
      ],
      "text/plain": [
       "  レベル 基準角度[deg] 割合[%]\n",
       "0   1      0~10   0.0\n",
       "1   2     10~30  11.6\n",
       "2   3     30~60  22.2\n",
       "3   4     60~90  66.2\n",
       "4   5    90~360   0.0"
      ]
     },
     "metadata": {},
     "output_type": "display_data"
    },
    {
     "data": {
      "text/plain": [
       "'肘の角度'"
      ]
     },
     "metadata": {},
     "output_type": "display_data"
    },
    {
     "data": {
      "text/html": [
       "<div>\n",
       "<style scoped>\n",
       "    .dataframe tbody tr th:only-of-type {\n",
       "        vertical-align: middle;\n",
       "    }\n",
       "\n",
       "    .dataframe tbody tr th {\n",
       "        vertical-align: top;\n",
       "    }\n",
       "\n",
       "    .dataframe thead th {\n",
       "        text-align: right;\n",
       "    }\n",
       "</style>\n",
       "<table border=\"1\" class=\"dataframe\">\n",
       "  <thead>\n",
       "    <tr style=\"text-align: right;\">\n",
       "      <th></th>\n",
       "      <th>レベル</th>\n",
       "      <th>基準角度[deg]</th>\n",
       "      <th>割合[%]</th>\n",
       "    </tr>\n",
       "  </thead>\n",
       "  <tbody>\n",
       "    <tr>\n",
       "      <th>0</th>\n",
       "      <td>1</td>\n",
       "      <td>90~120</td>\n",
       "      <td>41.3</td>\n",
       "    </tr>\n",
       "    <tr>\n",
       "      <th>1</th>\n",
       "      <td>2</td>\n",
       "      <td>120~140</td>\n",
       "      <td>33.1</td>\n",
       "    </tr>\n",
       "    <tr>\n",
       "      <th>2</th>\n",
       "      <td>3</td>\n",
       "      <td>140~160</td>\n",
       "      <td>0.0</td>\n",
       "    </tr>\n",
       "    <tr>\n",
       "      <th>3</th>\n",
       "      <td>4</td>\n",
       "      <td>160~180</td>\n",
       "      <td>0.0</td>\n",
       "    </tr>\n",
       "    <tr>\n",
       "      <th>4</th>\n",
       "      <td>5</td>\n",
       "      <td>180~360</td>\n",
       "      <td>0.0</td>\n",
       "    </tr>\n",
       "  </tbody>\n",
       "</table>\n",
       "</div>"
      ],
      "text/plain": [
       "  レベル 基準角度[deg] 割合[%]\n",
       "0   1    90~120  41.3\n",
       "1   2   120~140  33.1\n",
       "2   3   140~160   0.0\n",
       "3   4   160~180   0.0\n",
       "4   5   180~360   0.0"
      ]
     },
     "metadata": {},
     "output_type": "display_data"
    },
    {
     "data": {
      "text/plain": [
       "'手首の角度'"
      ]
     },
     "metadata": {},
     "output_type": "display_data"
    },
    {
     "data": {
      "text/html": [
       "<div>\n",
       "<style scoped>\n",
       "    .dataframe tbody tr th:only-of-type {\n",
       "        vertical-align: middle;\n",
       "    }\n",
       "\n",
       "    .dataframe tbody tr th {\n",
       "        vertical-align: top;\n",
       "    }\n",
       "\n",
       "    .dataframe thead th {\n",
       "        text-align: right;\n",
       "    }\n",
       "</style>\n",
       "<table border=\"1\" class=\"dataframe\">\n",
       "  <thead>\n",
       "    <tr style=\"text-align: right;\">\n",
       "      <th></th>\n",
       "      <th>レベル</th>\n",
       "      <th>基準角度[deg]</th>\n",
       "      <th>割合[%]</th>\n",
       "    </tr>\n",
       "  </thead>\n",
       "  <tbody>\n",
       "    <tr>\n",
       "      <th>0</th>\n",
       "      <td>1</td>\n",
       "      <td>90~120</td>\n",
       "      <td>0.0</td>\n",
       "    </tr>\n",
       "    <tr>\n",
       "      <th>1</th>\n",
       "      <td>2</td>\n",
       "      <td>120~140</td>\n",
       "      <td>0.0</td>\n",
       "    </tr>\n",
       "    <tr>\n",
       "      <th>2</th>\n",
       "      <td>3</td>\n",
       "      <td>140~160</td>\n",
       "      <td>45.7</td>\n",
       "    </tr>\n",
       "    <tr>\n",
       "      <th>3</th>\n",
       "      <td>4</td>\n",
       "      <td>160~180</td>\n",
       "      <td>54.3</td>\n",
       "    </tr>\n",
       "    <tr>\n",
       "      <th>4</th>\n",
       "      <td>5</td>\n",
       "      <td>180~360</td>\n",
       "      <td>0.0</td>\n",
       "    </tr>\n",
       "  </tbody>\n",
       "</table>\n",
       "</div>"
      ],
      "text/plain": [
       "  レベル 基準角度[deg] 割合[%]\n",
       "0   1    90~120   0.0\n",
       "1   2   120~140   0.0\n",
       "2   3   140~160  45.7\n",
       "3   4   160~180  54.3\n",
       "4   5   180~360   0.0"
      ]
     },
     "metadata": {},
     "output_type": "display_data"
    },
    {
     "name": "stderr",
     "output_type": "stream",
     "text": [
      "No handles with labels found to put in legend.\n",
      "<ipython-input-2-c11ffb2b0d68>:89: MatplotlibDeprecationWarning: Adding an axes using the same arguments as a previous axes currently reuses the earlier instance.  In a future version, a new instance will always be created and returned.  Meanwhile, this warning can be suppressed, and the future behavior ensured, by passing a unique label to each axes instance.\n",
      "  ax = plt.subplot()\n"
     ]
    },
    {
     "data": {
      "image/png": "[encoded data removed]",
      "text/plain": [
       "<Figure size 720x432 with 1 Axes>"
      ]
     },
     "metadata": {
      "needs_background": "light"
     },
     "output_type": "display_data"
    },
    {
     "name": "stderr",
     "output_type": "stream",
     "text": [
      "No handles with labels found to put in legend.\n"
     ]
    },
    {
     "data": {
      "image/png": "[encoded data removed]",
      "text/plain": [
       "<Figure size 720x432 with 1 Axes>"
      ]
     },
     "metadata": {
      "needs_background": "light"
     },
     "output_type": "display_data"
    },
    {
     "name": "stderr",
     "output_type": "stream",
     "text": [
      "No handles with labels found to put in legend.\n"
     ]
    },
    {
     "data": {
      "image/png": "[encoded data removed]",
      "text/plain": [
       "<Figure size 720x432 with 1 Axes>"
      ]
     },
     "metadata": {
      "needs_background": "light"
     },
     "output_type": "display_data"
    },
    {
     "name": "stderr",
     "output_type": "stream",
     "text": [
      "No handles with labels found to put in legend.\n"
     ]
    },
    {
     "data": {
      "image/png": "[encoded data removed]",
      "text/plain": [
       "<Figure size 720x432 with 1 Axes>"
      ]
     },
     "metadata": {
      "needs_background": "light"
     },
     "output_type": "display_data"
    }
   ],
   "source": [
    "df = Preprocessing('実験2.1いろんな角度.csv')\n",
    "df = Ratio(df)\n",
    "i = 1\n",
    "while i < len(col_name):\n",
    "    display(col_name[i])\n",
    "    display(df[col_name[i]])\n",
    "    i += 1\n",
    "data_plot(df)"
   ]
  }
 ],
 "metadata": {
  "kernelspec": {
   "display_name": "base",
   "language": "python",
   "name": "python3"
  },
  "language_info": {
   "codemirror_mode": {
    "name": "ipython",
    "version": 3
   },
   "file_extension": ".py",
   "mimetype": "text/x-python",
   "name": "python",
   "nbconvert_exporter": "python",
   "pygments_lexer": "ipython3",
   "version": "3.8.8"
  },
  "orig_nbformat": 4,
  "vscode": {
   "interpreter": {
    "hash": "ec3879a74886c2bca7117ae2cd27da8edd0e909b2a5b2c68d1ac525b8622ca31"
   }
  }
 },
 "nbformat": 4,
 "nbformat_minor": 2
}
