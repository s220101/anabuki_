{
 "cells": [
  {
   "cell_type": "code",
   "execution_count": 12,
   "metadata": {},
   "outputs": [],
   "source": [
    "import matplotlib.pyplot as plt\n",
    "import japanize_matplotlib\n",
    "import numpy as np\n",
    "import pandas as pd\n",
    "import os\n"
   ]
  },
  {
   "cell_type": "code",
   "execution_count": 13,
   "metadata": {},
   "outputs": [
    {
     "data": {
      "text/plain": [
       "0          0\n",
       "1         33\n",
       "2         67\n",
       "3        100\n",
       "4        133\n",
       "       ...  \n",
       "456    15215\n",
       "457    15249\n",
       "458    15282\n",
       "459    15315\n",
       "460    15349\n",
       "Name: Time (ms), Length: 461, dtype: int64"
      ]
     },
     "metadata": {},
     "output_type": "display_data"
    }
   ],
   "source": [
    "df = pd.read_csv(\"153腕データ.csv\")\n",
    "\n",
    "df = pd.DataFrame(df)\n",
    "display(df[df.columns[0]])"
   ]
  },
  {
   "cell_type": "code",
   "execution_count": 14,
   "metadata": {},
   "outputs": [
    {
     "data": {
      "image/png": "[encoded data removed]",
      "text/plain": [
       "<Figure size 640x480 with 1 Axes>"
      ]
     },
     "metadata": {},
     "output_type": "display_data"
    }
   ],
   "source": [
    "time = 0\n",
    "data_number = 1\n",
    "\n",
    "#display(df)\n",
    "\n",
    "save_flg=1\n",
    "X = df[df.columns[0]]\n",
    "Y = df[df.columns[1]]\n",
    "#変数の間\n",
    "color=\"#0000FF\"\n",
    "title = '心拍数'#df.columns[data_number]\n",
    "\n",
    "xlabel = df.columns[time]\n",
    "ylabel = df.columns[data_number]\n",
    "font_size = 12\n",
    "font_family = 'MS Gothic'\n",
    "figsize = (16,4)#(20,6)\n",
    "line_width = 3\n",
    "rotation = 0\n",
    "\n",
    "#x軸は時間なので固定\n",
    "x_axis = X\n",
    "#変化するのはY軸\n",
    "y_axis = Y\n",
    "\n",
    "plt.title(title)\n",
    "plt.xlabel(xlabel)\n",
    "plt.ylabel(ylabel)\n",
    "\n",
    "plt.xlim()\n",
    "plt.ylim()#心拍数の場合、数値の範囲を限定：(60,120)\n",
    "\n",
    "plt.rcParams[\"font.size\"] = font_size\n",
    "plt.rcParams[\"font.family\"] = font_family\n",
    "plt.rcParams[\"figure.figsize\"] = figsize\n",
    "\n",
    "plt.xticks(rotation=rotation)\n",
    "\n",
    "plt.plot(x_axis,y_axis,color=color,label=ylabel,linewidth=line_width)\n",
    "plt.legend(ncol=1)\n",
    "plt.grid()"
   ]
  },
  {
   "cell_type": "code",
   "execution_count": 23,
   "metadata": {},
   "outputs": [],
   "source": [
    "#同一フォルダ内のcsvファイルの名前を取得\n",
    "def get_csv_files_in_same_folder(path):\n",
    "\n",
    "    # 現在のノートブックのディレクトリを取得 \n",
    "    notebook_directory = os.path.dirname(os.path.abspath(path))\n",
    "    # フォルダ内のファイル一覧を取得\n",
    "    files = os.listdir(notebook_directory)\n",
    "\n",
    "    # CSVファイルのみを抽出\n",
    "    csv_files = [file for file in files if file.endswith(\".csv\")]\n",
    "\n",
    "    return csv_files\n",
    "\n",
    "def read_csv(csv_files_list):\n",
    "\n",
    "    # ファイル名を保存する配列を作成（最低限の大きさで初期化）\n",
    "    file_names_array = [None] * len(csv_files_list)\n",
    "\n",
    "    # 配列にファイル名を格納\n",
    "    for i, csv_file in enumerate(csv_files_list):\n",
    "        file_names_array[i] = csv_file\n",
    "    \n",
    "    #csvの読込み\n",
    "    read_df = [0]*len(file_names_array)\n",
    "    for i in range(len(file_names_array)):\n",
    "        read_df[i] = pd.read_csv(file_names_array[i])\n",
    "\n",
    "#y_lineをカラム数でループしてcsvデータをすべてプロットする.\n",
    "def ploter(df,x_line=0,y_line=1,hit_flag=False):\n",
    "    #変数の間\n",
    "    hit_color=\"#0000FF\"\n",
    "    no_hit_color=\"#FF0000\"\n",
    "    font_size = 12\n",
    "    font_family = 'MS Gothic'\n",
    "    figsize = (16,4)\n",
    "    line_width = 2 \n",
    "    rotation = 0\n",
    "\n",
    "    hit_flag = True#df[df.columns[3]]\n",
    "\n",
    "\n",
    "    title = df.columns[data_number]\n",
    "    xlabel = \"Time(sec)\"\n",
    "    ylabel = df.columns[data_number]\n",
    "\n",
    "    x_axis = df[df.columns[x_line]] / 1000\n",
    "    y_axis = df[df.columns[y_line]]\n",
    "\n",
    "    plt.title(title)\n",
    "    plt.xlabel(xlabel)\n",
    "    plt.ylabel(ylabel)\n",
    "    plt.xticks(rotation=rotation)\n",
    "\n",
    "    plt.xlim()\n",
    "    plt.ylim()#心拍数の場合、数値の範囲を限定：(60,120)\n",
    "\n",
    "    plt.rcParams[\"font.size\"] = font_size\n",
    "    plt.rcParams[\"font.family\"] = font_family\n",
    "    plt.rcParams[\"figure.figsize\"] = figsize\n",
    "\n",
    "    #当たった場合:True\n",
    "    if hit_flag == True:\n",
    "        #外れた時のグラフ\n",
    "        plt.plot(x_axis,y_axis,color=hit_color)\n",
    "    elif hit_flag == False:\n",
    "        #当たった時のグラフ\n",
    "        plt.plot(x_axis,y_axis,color=no_hit_color,label=ylabel,linewidth=line_width)\n",
    "    else:\n",
    "        print(\"plot errer\")\n",
    "\n",
    "    plt.legend(ncol=1)\n",
    "    plt.grid()\n",
    "    plt.show()"
   ]
  },
  {
   "cell_type": "code",
   "execution_count": 29,
   "metadata": {},
   "outputs": [
    {
     "name": "stdout",
     "output_type": "stream",
     "text": [
      "[]\n",
      "[]\n"
     ]
    },
    {
     "ename": "AttributeError",
     "evalue": "'list' object has no attribute 'columns'",
     "output_type": "error",
     "traceback": [
      "\u001b[1;31m---------------------------------------------------------------------------\u001b[0m",
      "\u001b[1;31mAttributeError\u001b[0m                            Traceback (most recent call last)",
      "\u001b[1;32mUntitled-1.ipynb セル 5\u001b[0m line \u001b[0;36m7\n\u001b[0;32m      <a href='vscode-notebook-cell:Untitled-1.ipynb?jupyter-notebook#W6sdW50aXRsZWQ%3D?line=4'>5</a>\u001b[0m df_ \u001b[39m=\u001b[39m read_csv(csv_files_list)\n\u001b[0;32m      <a href='vscode-notebook-cell:Untitled-1.ipynb?jupyter-notebook#W6sdW50aXRsZWQ%3D?line=5'>6</a>\u001b[0m \u001b[39mprint\u001b[39m(df)\n\u001b[1;32m----> <a href='vscode-notebook-cell:Untitled-1.ipynb?jupyter-notebook#W6sdW50aXRsZWQ%3D?line=6'>7</a>\u001b[0m ploter(df,x_line\u001b[39m=\u001b[39m\u001b[39m0\u001b[39m,y_line\u001b[39m=\u001b[39m\u001b[39m1\u001b[39m,hit_flag\u001b[39m=\u001b[39m\u001b[39mFalse\u001b[39;00m)\n",
      "\u001b[1;32mUntitled-1.ipynb セル 5\u001b[0m line \u001b[0;36m4\n\u001b[0;32m     <a href='vscode-notebook-cell:Untitled-1.ipynb?jupyter-notebook#W6sdW50aXRsZWQ%3D?line=36'>37</a>\u001b[0m rotation \u001b[39m=\u001b[39m \u001b[39m0\u001b[39m\n\u001b[0;32m     <a href='vscode-notebook-cell:Untitled-1.ipynb?jupyter-notebook#W6sdW50aXRsZWQ%3D?line=38'>39</a>\u001b[0m hit_flag \u001b[39m=\u001b[39m \u001b[39mTrue\u001b[39;00m\u001b[39m#df[df.columns[3]]\u001b[39;00m\n\u001b[1;32m---> <a href='vscode-notebook-cell:Untitled-1.ipynb?jupyter-notebook#W6sdW50aXRsZWQ%3D?line=41'>42</a>\u001b[0m title \u001b[39m=\u001b[39m df\u001b[39m.\u001b[39mcolumns[data_number]\n\u001b[0;32m     <a href='vscode-notebook-cell:Untitled-1.ipynb?jupyter-notebook#W6sdW50aXRsZWQ%3D?line=42'>43</a>\u001b[0m xlabel \u001b[39m=\u001b[39m \u001b[39m\"\u001b[39m\u001b[39mTime(sec)\u001b[39m\u001b[39m\"\u001b[39m\n\u001b[0;32m     <a href='vscode-notebook-cell:Untitled-1.ipynb?jupyter-notebook#W6sdW50aXRsZWQ%3D?line=43'>44</a>\u001b[0m ylabel \u001b[39m=\u001b[39m df\u001b[39m.\u001b[39mcolumns[data_number]\n",
      "\u001b[1;31mAttributeError\u001b[0m: 'list' object has no attribute 'columns'"
     ]
    }
   ],
   "source": [
    "path = r\"C:\\Users\\ginnt\\デスクトップ\\kinovea解析\"\n",
    "\n",
    "csv_files_list = get_csv_files_in_same_folder(path)\n",
    "print(csv_files_list)\n",
    "df_ = read_csv(csv_files_list)\n",
    "print(df)\n",
    "ploter(df,x_line=0,y_line=1,hit_flag=False)"
   ]
  },
  {
   "cell_type": "code",
   "execution_count": 27,
   "metadata": {},
   "outputs": [
    {
     "name": "stdout",
     "output_type": "stream",
     "text": [
      "csvファイルの個数\n",
      "データフレームのカラム数\n"
     ]
    },
    {
     "ename": "AttributeError",
     "evalue": "'list' object has no attribute 'columns'",
     "output_type": "error",
     "traceback": [
      "\u001b[1;31m---------------------------------------------------------------------------\u001b[0m",
      "\u001b[1;31mAttributeError\u001b[0m                            Traceback (most recent call last)",
      "\u001b[1;32mUntitled-1.ipynb セル 7\u001b[0m line \u001b[0;36m1\n\u001b[0;32m    <a href='vscode-notebook-cell:Untitled-1.ipynb?jupyter-notebook#X10sdW50aXRsZWQ%3D?line=100'>101</a>\u001b[0m \u001b[39m#データフレームのカラム数\u001b[39;00m\n\u001b[0;32m    <a href='vscode-notebook-cell:Untitled-1.ipynb?jupyter-notebook#X10sdW50aXRsZWQ%3D?line=101'>102</a>\u001b[0m \u001b[39mprint\u001b[39m(\u001b[39m\"\u001b[39m\u001b[39mデータフレームのカラム数\u001b[39m\u001b[39m\"\u001b[39m)\n\u001b[1;32m--> <a href='vscode-notebook-cell:Untitled-1.ipynb?jupyter-notebook#X10sdW50aXRsZWQ%3D?line=102'>103</a>\u001b[0m csv_columns_number_scale \u001b[39m=\u001b[39m \u001b[39mlen\u001b[39m(df\u001b[39m.\u001b[39mcolumns)\n\u001b[0;32m    <a href='vscode-notebook-cell:Untitled-1.ipynb?jupyter-notebook#X10sdW50aXRsZWQ%3D?line=103'>104</a>\u001b[0m \u001b[39m#データフレームのレコード数\u001b[39;00m\n\u001b[0;32m    <a href='vscode-notebook-cell:Untitled-1.ipynb?jupyter-notebook#X10sdW50aXRsZWQ%3D?line=105'>106</a>\u001b[0m \u001b[39mprint\u001b[39m(\u001b[39m\"\u001b[39m\u001b[39mcsv_file_number_scale:\u001b[39m\u001b[39m\"\u001b[39m \u001b[39m+\u001b[39m \u001b[39mstr\u001b[39m(csv_file_number_scale))\n",
      "\u001b[1;31mAttributeError\u001b[0m: 'list' object has no attribute 'columns'"
     ]
    }
   ],
   "source": [
    "i\n",
    "#　csv_recod_data_ploter(データフレーム,レコード番地,グラフタイトル,画像の保存)\n",
    "def csv_recod_data_ploter(df,record=2,title='Default',save_flg=False):\n",
    "\n",
    "    #変数\n",
    "    color=\"#0000FF\"\n",
    "    title = title\n",
    "\n",
    "    xlabel = df.columns[0]\n",
    "    ylabel = df.columns[record]\n",
    "    font_size = 14\n",
    "    font_family = 'MS Gothic'\n",
    "    figsize = (18,6)\n",
    "    line_width = 2\n",
    "    rotation = 0\n",
    "    \n",
    "    #x軸は固定\n",
    "    x_axis = df[df.columns[0]]\n",
    "    #変化するのはY軸\n",
    "    y_axis = df[df.columns[record]]\n",
    "\n",
    "    plt.title(title)\n",
    "    plt.xlabel(xlabel)\n",
    "    plt.ylabel(ylabel)\n",
    "\n",
    "    plt.xlim()\n",
    "    plt.ylim()\n",
    "\n",
    "    plt.rcParams[\"font.size\"] = font_size\n",
    "    plt.rcParams[\"font.family\"] = font_family\n",
    "    plt.rcParams[\"figure.figsize\"] = figsize\n",
    "\n",
    "    plt.xticks(rotation=rotation)\n",
    "\n",
    "    plt.plot(x_axis,y_axis,color=color,label=ylabel,linewidth=line_width)\n",
    "    plt.legend(ncol=1)\n",
    "    plt.grid()\n",
    "    #プロットした画像を保存する\n",
    "    if save_flg == True:\n",
    "        plt.savefig(str(df.columns) + \".jpg\")\n",
    "    plt.show()\n",
    "\n",
    "#メイン処理\n",
    "# CSVファイルの一覧を取得\n",
    "csv_files_list = get_csv_files_in_same_folder(FOLDER_ADDRESS)\n",
    "\n",
    "#csvファイルのpandasを利用した読込み\n",
    "csv_df = read_csv(csv_files_list)\n",
    "\n",
    "df = csv_df#[0]\n",
    "#csv_recod_data_ploter(df,2,\"test\",save_flg=False)\n",
    "csv_file_number = 0\n",
    "csv_columns_number = 2\n",
    "csv_recod_number = 0\n",
    "\n",
    "#csvファイルの個数\n",
    "print(\"csvファイルの個数\")\n",
    "csv_file_number_scale = len(csv_df)\n",
    "#データフレームのカラム数\n",
    "print(\"データフレームのカラム数\")\n",
    "csv_columns_number_scale = len(df.columns)\n",
    "#データフレームのレコード数\n",
    "\n",
    "print(\"csv_file_number_scale:\" + str(csv_file_number_scale))\n",
    "print(\"csv_columns_number_scale:\" + str(csv_columns_number_scale))\n",
    "\n",
    "debug_total_loop = 0\n",
    "while csv_file_number < csv_file_number_scale:\n",
    "    #csvファイルを読み込む\n",
    "    df = csv_df[csv_file_number]\n",
    "    #ファイル内のデータフレームのカラム数を取得\n",
    "    csv_columns_number_scale = len(df.columns)\n",
    "\n",
    "    #カラム数よりループ回数が少ない場合:True \n",
    "    while csv_columns_number < csv_columns_number_scale:\n",
    "         #　csv_recod_data_ploter(データフレーム,レコード番地,グラフタイトル,画像の保存)\n",
    "         csv_recod_data_ploter(df,record=csv_columns_number,title=df.columns[csv_columns_number],save_flg=False)\n",
    "         \n",
    "         csv_columns_number += 1\n",
    "         debug_total_loop += 1\n",
    "         print(debug_total_loop)\n",
    "\n",
    "    csv_columns_number = 2\n",
    "    csv_file_number +=1\n",
    "print(\"END\")"
   ]
  },
  {
   "cell_type": "code",
   "execution_count": null,
   "metadata": {},
   "outputs": [],
   "source": []
  }
 ],
 "metadata": {
  "kernelspec": {
   "display_name": "base",
   "language": "python",
   "name": "python3"
  },
  "language_info": {
   "codemirror_mode": {
    "name": "ipython",
    "version": 3
   },
   "file_extension": ".py",
   "mimetype": "text/x-python",
   "name": "python",
   "nbconvert_exporter": "python",
   "pygments_lexer": "ipython3",
   "version": "3.11.5"
  }
 },
 "nbformat": 4,
 "nbformat_minor": 2
}
